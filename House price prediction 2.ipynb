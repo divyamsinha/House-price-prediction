{
 "cells": [
  {
   "cell_type": "code",
   "execution_count": 423,
   "metadata": {},
   "outputs": [],
   "source": [
    "import pandas as pd"
   ]
  },
  {
   "cell_type": "code",
   "execution_count": 424,
   "metadata": {},
   "outputs": [],
   "source": [
    "import numpy as np"
   ]
  },
  {
   "cell_type": "code",
   "execution_count": 449,
   "metadata": {},
   "outputs": [],
   "source": [
    "import matplotlib.pyplot as plt "
   ]
  },
  {
   "cell_type": "code",
   "execution_count": 450,
   "metadata": {},
   "outputs": [],
   "source": [
    "import os"
   ]
  },
  {
   "cell_type": "code",
   "execution_count": 451,
   "metadata": {},
   "outputs": [
    {
     "data": {
      "text/plain": [
       "['data_description.txt', 'Train_Data.csv']"
      ]
     },
     "execution_count": 451,
     "metadata": {},
     "output_type": "execute_result"
    }
   ],
   "source": [
    "os.listdir('Train')"
   ]
  },
  {
   "cell_type": "code",
   "execution_count": 452,
   "metadata": {},
   "outputs": [],
   "source": [
    "from sklearn.preprocessing import OneHotEncoder\n",
    "oht = OneHotEncoder()"
   ]
  },
  {
   "cell_type": "code",
   "execution_count": 453,
   "metadata": {},
   "outputs": [],
   "source": [
    "X = pd.read_csv('Train/Train_Data.csv')\n",
    "test_df = pd.read_csv('Test(1)/Test_Data.csv')\n",
    "X = pd.concat([X,test_df], sort = False)"
   ]
  },
  {
   "cell_type": "code",
   "execution_count": 454,
   "metadata": {},
   "outputs": [],
   "source": [
    "drop_col = ['Id' ,'Alley' , 'PoolQC' , 'Fence' , 'MiscFeature']"
   ]
  },
  {
   "cell_type": "code",
   "execution_count": 455,
   "metadata": {},
   "outputs": [],
   "source": [
    "X = X.drop(columns=drop_col)"
   ]
  },
  {
   "cell_type": "code",
   "execution_count": 456,
   "metadata": {},
   "outputs": [],
   "source": [
    "X['LotFrontage'] = X['LotFrontage'].fillna(X['LotFrontage'].mean())\n",
    "X['GarageYrBlt'] = X['GarageYrBlt'].fillna(X['GarageYrBlt'].mean())\n",
    "X['MasVnrArea'] = X['MasVnrArea'].fillna(X['MasVnrArea'].mean())\n",
    "c = 'GarageCars'\n",
    "X[c] = X[c].fillna(X[c].mean())"
   ]
  },
  {
   "cell_type": "code",
   "execution_count": 457,
   "metadata": {},
   "outputs": [],
   "source": [
    "X['MasVnrType'] = X['MasVnrType'].fillna(X['MasVnrType'].mode()[0])\n",
    "X['BsmtQual'] = X['BsmtQual'].fillna(X['BsmtQual'].mode()[0])\n",
    "X['BsmtCond'] = X['BsmtCond'].fillna(X['BsmtCond'].mode()[0])\n",
    "X['BsmtExposure'] = X['BsmtExposure'].fillna(X['BsmtExposure'].mode()[0])\n",
    "X['BsmtFinType1'] = X['BsmtFinType1'].fillna(X['BsmtFinType1'].mode()[0])\n",
    "X['FireplaceQu'] = X['FireplaceQu'].fillna(X['FireplaceQu'].mode()[0])\n",
    "X['GarageType'] = X['GarageType'].fillna(X['GarageType'].mode()[0])\n",
    "X['BsmtFinType2'] = X['BsmtFinType2'].fillna(X['BsmtFinType2'].mode()[0])\n",
    "X['GarageQual'] = X['GarageQual'].fillna(X['GarageQual'].mode()[0])\n",
    "X['GarageCond'] = X['GarageCond'].fillna(X['GarageCond'].mode()[0])\n",
    "X['GarageFinish'] = X['GarageFinish'].fillna(X['GarageFinish'].mode()[0])\n",
    "X['Electrical'] = X['Electrical'].fillna(X['Electrical'].mode()[0])\n",
    "c1 = 'Functional'\n",
    "X[c1] = X[c1].fillna(X[c1].mode()[0])"
   ]
  },
  {
   "cell_type": "code",
   "execution_count": 458,
   "metadata": {},
   "outputs": [],
   "source": [
    "X = pd.DataFrame(X.values)"
   ]
  },
  {
   "cell_type": "code",
   "execution_count": 459,
   "metadata": {},
   "outputs": [],
   "source": [
    "dummydf = pd.DataFrame()\n",
    "frames = []\n",
    "for col in X.columns:\n",
    "    if type(X[col].iloc[0]) != str:\n",
    "        frames.append(pd.DataFrame(X[col]))\n",
    "    else:\n",
    "        oht_df = pd.DataFrame(oht.fit_transform(X[col].values.reshape(-1,1)).toarray())\n",
    "        frames.append(oht_df)\n",
    "dummydf = pd.concat(frames,axis=1, sort=False)"
   ]
  },
  {
   "cell_type": "code",
   "execution_count": 460,
   "metadata": {},
   "outputs": [
    {
     "data": {
      "text/plain": [
       "array([[60, 0.0, 0.0, ..., 1.0, 0.0, 208500.0],\n",
       "       [20, 0.0, 0.0, ..., 1.0, 0.0, 181500.0],\n",
       "       [60, 0.0, 0.0, ..., 1.0, 0.0, 223500.0],\n",
       "       ...,\n",
       "       [70, 0.0, 0.0, ..., 1.0, 0.0, nan],\n",
       "       [20, 0.0, 0.0, ..., 1.0, 0.0, nan],\n",
       "       [20, 0.0, 0.0, ..., 1.0, 0.0, nan]], dtype=object)"
      ]
     },
     "execution_count": 460,
     "metadata": {},
     "output_type": "execute_result"
    }
   ],
   "source": [
    "dummydf.values"
   ]
  },
  {
   "cell_type": "code",
   "execution_count": null,
   "metadata": {},
   "outputs": [],
   "source": []
  },
  {
   "cell_type": "code",
   "execution_count": null,
   "metadata": {},
   "outputs": [],
   "source": []
  },
  {
   "cell_type": "code",
   "execution_count": 461,
   "metadata": {},
   "outputs": [],
   "source": [
    "dummydf = dummydf.loc[:,~dummydf.columns.duplicated()]\n",
    "X_=dummydf.values[:1100,:-1]\n",
    "y_=dummydf.values[:1100,-1]"
   ]
  },
  {
   "cell_type": "code",
   "execution_count": 462,
   "metadata": {},
   "outputs": [],
   "source": [
    "X_ = (X_-X_.mean())/X_.std()\n",
    "y_ = (y_-y_.mean())/y_.std() "
   ]
  },
  {
   "cell_type": "markdown",
   "metadata": {},
   "source": [
    "# Model"
   ]
  },
  {
   "cell_type": "code",
   "execution_count": 463,
   "metadata": {},
   "outputs": [],
   "source": [
    "import keras"
   ]
  },
  {
   "cell_type": "code",
   "execution_count": 464,
   "metadata": {},
   "outputs": [],
   "source": [
    "from keras.models import Sequential"
   ]
  },
  {
   "cell_type": "code",
   "execution_count": 465,
   "metadata": {},
   "outputs": [],
   "source": [
    "from keras.layers import *"
   ]
  },
  {
   "cell_type": "code",
   "execution_count": 466,
   "metadata": {},
   "outputs": [],
   "source": [
    "from sklearn.model_selection import train_test_split\n",
    "X_train, X_test, y_train, y_test = train_test_split(X_, y_, test_size=0.2, random_state=42)"
   ]
  },
  {
   "cell_type": "code",
   "execution_count": 467,
   "metadata": {},
   "outputs": [],
   "source": [
    "from keras.callbacks import ModelCheckpoint"
   ]
  },
  {
   "cell_type": "code",
   "execution_count": 468,
   "metadata": {},
   "outputs": [
    {
     "name": "stdout",
     "output_type": "stream",
     "text": [
      "Model: \"sequential_25\"\n",
      "_________________________________________________________________\n",
      "Layer (type)                 Output Shape              Param #   \n",
      "=================================================================\n",
      "dense_145 (Dense)            (None, 100)               5400      \n",
      "_________________________________________________________________\n",
      "dense_146 (Dense)            (None, 512)               51712     \n",
      "_________________________________________________________________\n",
      "dense_147 (Dense)            (None, 128)               65664     \n",
      "_________________________________________________________________\n",
      "dense_148 (Dense)            (None, 64)                8256      \n",
      "_________________________________________________________________\n",
      "dense_149 (Dense)            (None, 16)                1040      \n",
      "_________________________________________________________________\n",
      "dense_150 (Dense)            (None, 1)                 17        \n",
      "=================================================================\n",
      "Total params: 132,089\n",
      "Trainable params: 132,089\n",
      "Non-trainable params: 0\n",
      "_________________________________________________________________\n"
     ]
    }
   ],
   "source": [
    "model = Sequential()\n",
    "leakyrelu = LeakyReLU(0.3)\n",
    "model.add(Dense(100, input_shape = (53,)))\n",
    "model.add(Dense(512 ))\n",
    "model.add(Dense(128))\n",
    "model.add(Dense(64))\n",
    "model.add(Dense(16))\n",
    "model.add(Dense(1))\n",
    "\n",
    "\n",
    "model.summary()"
   ]
  },
  {
   "cell_type": "code",
   "execution_count": 469,
   "metadata": {},
   "outputs": [],
   "source": [
    "model.compile(optimizer = 'adam' , loss = 'mean_squared_error' , metrics=['mse','mae'])"
   ]
  },
  {
   "cell_type": "code",
   "execution_count": 470,
   "metadata": {
    "scrolled": true
   },
   "outputs": [
    {
     "name": "stdout",
     "output_type": "stream",
     "text": [
      "Train on 880 samples, validate on 220 samples\n",
      "Epoch 1/20\n",
      "880/880 [==============================] - 0s 247us/step - loss: 4.8674 - mse: 4.8674 - mae: 1.5915 - val_loss: 0.4715 - val_mse: 0.4715 - val_mae: 0.4541\n",
      "\n",
      "Epoch 00001: val_mae improved from inf to 0.45409, saving model to best_model.h5\n",
      "Epoch 2/20\n",
      "880/880 [==============================] - 0s 111us/step - loss: 0.3355 - mse: 0.3355 - mae: 0.4342 - val_loss: 0.5218 - val_mse: 0.5218 - val_mae: 0.4567\n",
      "\n",
      "Epoch 00002: val_mae did not improve from 0.45409\n",
      "Epoch 3/20\n",
      "880/880 [==============================] - 0s 150us/step - loss: 0.2584 - mse: 0.2584 - mae: 0.3599 - val_loss: 0.5212 - val_mse: 0.5212 - val_mae: 0.4632\n",
      "\n",
      "Epoch 00003: val_mae did not improve from 0.45409\n",
      "Epoch 4/20\n",
      "880/880 [==============================] - 0s 117us/step - loss: 0.2402 - mse: 0.2402 - mae: 0.3446 - val_loss: 0.4680 - val_mse: 0.4680 - val_mae: 0.4308\n",
      "\n",
      "Epoch 00004: val_mae improved from 0.45409 to 0.43078, saving model to best_model.h5\n",
      "Epoch 5/20\n",
      "880/880 [==============================] - 0s 113us/step - loss: 0.2422 - mse: 0.2422 - mae: 0.3413 - val_loss: 0.4452 - val_mse: 0.4452 - val_mae: 0.4273\n",
      "\n",
      "Epoch 00005: val_mae improved from 0.43078 to 0.42735, saving model to best_model.h5\n",
      "Epoch 6/20\n",
      "880/880 [==============================] - 0s 107us/step - loss: 0.2473 - mse: 0.2473 - mae: 0.3465 - val_loss: 0.4627 - val_mse: 0.4627 - val_mae: 0.4349\n",
      "\n",
      "Epoch 00006: val_mae did not improve from 0.42735\n",
      "Epoch 7/20\n",
      "880/880 [==============================] - 0s 113us/step - loss: 0.2787 - mse: 0.2787 - mae: 0.3526 - val_loss: 0.4846 - val_mse: 0.4846 - val_mae: 0.4332\n",
      "\n",
      "Epoch 00007: val_mae did not improve from 0.42735\n",
      "Epoch 8/20\n",
      "880/880 [==============================] - 0s 116us/step - loss: 0.3283 - mse: 0.3283 - mae: 0.3586 - val_loss: 0.4557 - val_mse: 0.4557 - val_mae: 0.4357\n",
      "\n",
      "Epoch 00008: val_mae did not improve from 0.42735\n",
      "Epoch 9/20\n",
      "880/880 [==============================] - 0s 100us/step - loss: 0.3292 - mse: 0.3292 - mae: 0.3711 - val_loss: 0.4182 - val_mse: 0.4182 - val_mae: 0.4249\n",
      "\n",
      "Epoch 00009: val_mae improved from 0.42735 to 0.42494, saving model to best_model.h5\n",
      "Epoch 10/20\n",
      "880/880 [==============================] - 0s 103us/step - loss: 0.2829 - mse: 0.2829 - mae: 0.3536 - val_loss: 0.4717 - val_mse: 0.4717 - val_mae: 0.4335\n",
      "\n",
      "Epoch 00010: val_mae did not improve from 0.42494\n",
      "Epoch 11/20\n",
      "880/880 [==============================] - 0s 99us/step - loss: 0.2371 - mse: 0.2371 - mae: 0.3425 - val_loss: 0.4885 - val_mse: 0.4885 - val_mae: 0.4535\n",
      "\n",
      "Epoch 00011: val_mae did not improve from 0.42494\n",
      "Epoch 12/20\n",
      "880/880 [==============================] - 0s 110us/step - loss: 0.2343 - mse: 0.2343 - mae: 0.3442 - val_loss: 0.4382 - val_mse: 0.4382 - val_mae: 0.4274\n",
      "\n",
      "Epoch 00012: val_mae did not improve from 0.42494\n",
      "Epoch 13/20\n",
      "880/880 [==============================] - 0s 111us/step - loss: 0.2351 - mse: 0.2351 - mae: 0.3348 - val_loss: 0.5154 - val_mse: 0.5154 - val_mae: 0.4497\n",
      "\n",
      "Epoch 00013: val_mae did not improve from 0.42494\n",
      "Epoch 14/20\n",
      "880/880 [==============================] - 0s 113us/step - loss: 0.2506 - mse: 0.2506 - mae: 0.3526 - val_loss: 0.4863 - val_mse: 0.4863 - val_mae: 0.4397\n",
      "\n",
      "Epoch 00014: val_mae did not improve from 0.42494\n",
      "Epoch 15/20\n",
      "880/880 [==============================] - 0s 110us/step - loss: 0.2410 - mse: 0.2410 - mae: 0.3475 - val_loss: 0.4528 - val_mse: 0.4528 - val_mae: 0.4276\n",
      "\n",
      "Epoch 00015: val_mae did not improve from 0.42494\n",
      "Epoch 16/20\n",
      "880/880 [==============================] - 0s 117us/step - loss: 0.2286 - mse: 0.2286 - mae: 0.3370 - val_loss: 0.4246 - val_mse: 0.4246 - val_mae: 0.4168\n",
      "\n",
      "Epoch 00016: val_mae improved from 0.42494 to 0.41678, saving model to best_model.h5\n",
      "Epoch 17/20\n",
      "880/880 [==============================] - 0s 109us/step - loss: 0.2330 - mse: 0.2330 - mae: 0.3376 - val_loss: 0.4422 - val_mse: 0.4422 - val_mae: 0.4267\n",
      "\n",
      "Epoch 00017: val_mae did not improve from 0.41678\n",
      "Epoch 18/20\n",
      "880/880 [==============================] - 0s 114us/step - loss: 0.2338 - mse: 0.2338 - mae: 0.3373 - val_loss: 0.5007 - val_mse: 0.5007 - val_mae: 0.4414\n",
      "\n",
      "Epoch 00018: val_mae did not improve from 0.41678\n",
      "Epoch 19/20\n",
      "880/880 [==============================] - 0s 122us/step - loss: 0.2268 - mse: 0.2268 - mae: 0.3372 - val_loss: 0.4100 - val_mse: 0.4100 - val_mae: 0.4137\n",
      "\n",
      "Epoch 00019: val_mae improved from 0.41678 to 0.41365, saving model to best_model.h5\n",
      "Epoch 20/20\n",
      "880/880 [==============================] - 0s 119us/step - loss: 0.2371 - mse: 0.2371 - mae: 0.3402 - val_loss: 0.4479 - val_mse: 0.4479 - val_mae: 0.4198\n",
      "\n",
      "Epoch 00020: val_mae did not improve from 0.41365\n"
     ]
    }
   ],
   "source": [
    "checkpoint = ModelCheckpoint('best_model.h5', monitor='val_mae', verbose=1, save_best_only=True, mode='min')\n",
    "callbacks_list = [checkpoint]\n",
    "\n",
    "hist = model.fit(X_train, y_train , batch_size=32 ,epochs=20 ,validation_data=(X_test,y_test) , callbacks=callbacks_list)"
   ]
  },
  {
   "cell_type": "code",
   "execution_count": 471,
   "metadata": {},
   "outputs": [],
   "source": [
    "model.load_weights('best_model.h5')"
   ]
  },
  {
   "cell_type": "code",
   "execution_count": 472,
   "metadata": {},
   "outputs": [
    {
     "name": "stdout",
     "output_type": "stream",
     "text": [
      "220/220 [==============================] - 0s 45us/step\n"
     ]
    },
    {
     "data": {
      "text/plain": [
       "[0.40999896878545933, 0.40999895334243774, 0.4136522114276886]"
      ]
     },
     "execution_count": 472,
     "metadata": {},
     "output_type": "execute_result"
    }
   ],
   "source": [
    "model.evaluate(X_test,y_test)"
   ]
  },
  {
   "cell_type": "code",
   "execution_count": 210,
   "metadata": {},
   "outputs": [],
   "source": []
  },
  {
   "cell_type": "code",
   "execution_count": 448,
   "metadata": {},
   "outputs": [
    {
     "data": {
      "text/plain": [
       "\"test_df['LotFrontage'] = test_df['LotFrontage'].fillna(test_df['LotFrontage'].mean())\\ntest_df['GarageYrBlt'] = test_df['GarageYrBlt'].fillna(test_df['GarageYrBlt'].mean())\\ntest_df['MasVnrArea'] = test_df['MasVnrArea'].fillna(test_df['MasVnrArea'].mean())\\ntest_df['MasVnrType'] = test_df['MasVnrType'].fillna(test_df['MasVnrType'].mode()[0])\\ntest_df['BsmtQual'] = test_df['BsmtQual'].fillna(test_df['BsmtQual'].mode()[0])\\ntest_df['BsmtCond'] = test_df['BsmtCond'].fillna(test_df['BsmtCond'].mode()[0])\\ntest_df['BsmtExposure'] = test_df['BsmtExposure'].fillna(test_df['BsmtExposure'].mode()[0])\\ntest_df['BsmtFinType1'] = test_df['BsmtFinType1'].fillna(test_df['BsmtFinType1'].mode()[0])\\ntest_df['FireplaceQu'] = test_df['FireplaceQu'].fillna(test_df['FireplaceQu'].mode()[0])\\ntest_df['GarageType'] = test_df['GarageType'].fillna(test_df['GarageType'].mode()[0])\\ntest_df['BsmtFinType2'] = test_df['BsmtFinType2'].fillna(test_df['BsmtFinType2'].mode()[0])\\ntest_df['GarageQual'] = test_df['GarageQual'].fillna(test_df['GarageQual'].mode()[0])\\ntest_df['GarageCond'] = test_df['GarageCond'].fillna(test_df['GarageCond'].mode()[0])\\ntest_df['GarageFinish'] = test_df['GarageFinish'].fillna(test_df['GarageFinish'].mode()[0])\\ntest_df['Electrical'] = test_df['Electrical'].fillna(test_df['Electrical'].mode()[0])\""
      ]
     },
     "execution_count": 448,
     "metadata": {},
     "output_type": "execute_result"
    }
   ],
   "source": [
    "\"\"\"test_df['LotFrontage'] = test_df['LotFrontage'].fillna(test_df['LotFrontage'].mean())\n",
    "test_df['GarageYrBlt'] = test_df['GarageYrBlt'].fillna(test_df['GarageYrBlt'].mean())\n",
    "test_df['MasVnrArea'] = test_df['MasVnrArea'].fillna(test_df['MasVnrArea'].mean())\n",
    "test_df['MasVnrType'] = test_df['MasVnrType'].fillna(test_df['MasVnrType'].mode()[0])\n",
    "test_df['BsmtQual'] = test_df['BsmtQual'].fillna(test_df['BsmtQual'].mode()[0])\n",
    "test_df['BsmtCond'] = test_df['BsmtCond'].fillna(test_df['BsmtCond'].mode()[0])\n",
    "test_df['BsmtExposure'] = test_df['BsmtExposure'].fillna(test_df['BsmtExposure'].mode()[0])\n",
    "test_df['BsmtFinType1'] = test_df['BsmtFinType1'].fillna(test_df['BsmtFinType1'].mode()[0])\n",
    "test_df['FireplaceQu'] = test_df['FireplaceQu'].fillna(test_df['FireplaceQu'].mode()[0])\n",
    "test_df['GarageType'] = test_df['GarageType'].fillna(test_df['GarageType'].mode()[0])\n",
    "test_df['BsmtFinType2'] = test_df['BsmtFinType2'].fillna(test_df['BsmtFinType2'].mode()[0])\n",
    "test_df['GarageQual'] = test_df['GarageQual'].fillna(test_df['GarageQual'].mode()[0])\n",
    "test_df['GarageCond'] = test_df['GarageCond'].fillna(test_df['GarageCond'].mode()[0])\n",
    "test_df['GarageFinish'] = test_df['GarageFinish'].fillna(test_df['GarageFinish'].mode()[0])\n",
    "test_df['Electrical'] = test_df['Electrical'].fillna(test_df['Electrical'].mode()[0])\"\"\""
   ]
  },
  {
   "cell_type": "code",
   "execution_count": 479,
   "metadata": {},
   "outputs": [],
   "source": [
    "test = dummydf.values[1100:,:-1]"
   ]
  },
  {
   "cell_type": "code",
   "execution_count": 480,
   "metadata": {},
   "outputs": [
    {
     "data": {
      "text/plain": [
       "array([[30, 0.0, 0.0, ..., 0, 1, 2009],\n",
       "       [20, 0.0, 0.0, ..., 0, 7, 2007],\n",
       "       [20, 0.0, 0.0, ..., 0, 4, 2007],\n",
       "       ...,\n",
       "       [70, 0.0, 0.0, ..., 2500, 5, 2010],\n",
       "       [20, 0.0, 0.0, ..., 0, 4, 2010],\n",
       "       [20, 0.0, 0.0, ..., 0, 6, 2008]], dtype=object)"
      ]
     },
     "execution_count": 480,
     "metadata": {},
     "output_type": "execute_result"
    }
   ],
   "source": [
    "test"
   ]
  },
  {
   "cell_type": "code",
   "execution_count": null,
   "metadata": {},
   "outputs": [],
   "source": [
    "dic = {'Id' : np.arange(1101,1461) , 'SalePrice' : np.round(pred.reshape(1,-1)[0])}"
   ]
  },
  {
   "cell_type": "code",
   "execution_count": null,
   "metadata": {},
   "outputs": [],
   "source": [
    "df = pd.DataFrame(dic)"
   ]
  },
  {
   "cell_type": "code",
   "execution_count": null,
   "metadata": {},
   "outputs": [],
   "source": [
    "df.to_csv('Sample_house_prediction.csv', index=False) "
   ]
  },
  {
   "cell_type": "code",
   "execution_count": null,
   "metadata": {},
   "outputs": [],
   "source": [
    "df = pd.concat([df , X_train['MSSubClass']])"
   ]
  }
 ],
 "metadata": {
  "kernelspec": {
   "display_name": "Python 3",
   "language": "python",
   "name": "python3"
  },
  "language_info": {
   "codemirror_mode": {
    "name": "ipython",
    "version": 3
   },
   "file_extension": ".py",
   "mimetype": "text/x-python",
   "name": "python",
   "nbconvert_exporter": "python",
   "pygments_lexer": "ipython3",
   "version": "3.7.4"
  }
 },
 "nbformat": 4,
 "nbformat_minor": 2
}
